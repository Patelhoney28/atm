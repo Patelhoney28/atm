{
 "cells": [
  {
   "cell_type": "code",
   "execution_count": null,
   "id": "3f9ac7c0",
   "metadata": {},
   "outputs": [
    {
     "name": "stdout",
     "output_type": "stream",
     "text": [
      "Please insert Your CARD\n",
      "enter your atm pin 4325\n",
      " \n",
      "                1 == balance\n",
      "                2 == withdraw balance\n",
      "                3 == deposit balance\n",
      "                4 == exit\n",
      "                \n"
     ]
    }
   ],
   "source": [
    "import time\n",
    "\n",
    "print(\"Please insert Your CARD\")\n",
    "\n",
    "#for card processing\n",
    "time.sleep(3)\n",
    "\n",
    "password = 4325\n",
    "\n",
    "#taking atm pin from user\n",
    "pin = int(input(\"enter your atm pin \"))\n",
    "#user account balance\n",
    "balance = 50000\n",
    "#checking pin is valid or not \n",
    "if pin == password:\n",
    "    #loop will run user get free \n",
    "    while True:\n",
    "        #Showing  info to user\n",
    "        print(\"\"\" \n",
    "                1 == balance\n",
    "                2 == withdraw balance\n",
    "                3 == deposit balance\n",
    "                4 == exit\n",
    "                \"\"\"  )\n",
    "        try:    \n",
    "             #taking an option from user\n",
    "            option = int(input(\"Please enter your choise \"))\n",
    "        except:\n",
    "            print(\"Please enter valid option\")\n",
    "        \n",
    "        #for option 1        \n",
    "        if option == 1:\n",
    "            print(f\"Your current balance is {balance}\")                             \n",
    "        if option == 2:\n",
    "            withdraw_amount = int(input(\"please enter withdraw_amount \"))\n",
    "            balance = balance - withdraw_amount\n",
    "            print(f\"{withdraw_amount} is debited from your account\")\n",
    "            print(f\"your updated balance is {balance}\")\n",
    "        if option == 3:\n",
    "            deposit_amount = int(input(\"please enter deposit_amount\"))\n",
    "            balance = balance + deposit_amount\n",
    "            print(f\"{deposit_amount} is credited to your account\")\n",
    "            print(f\"your updated balance is {balance}\")\n",
    "        if option == 4:\n",
    "            break\n",
    "else:\n",
    "    print(\"wrong pin Please try again\")\n",
    "\n"
   ]
  },
  {
   "cell_type": "code",
   "execution_count": null,
   "id": "9f1ac59e",
   "metadata": {},
   "outputs": [],
   "source": []
  }
 ],
 "metadata": {
  "kernelspec": {
   "display_name": "Python 3",
   "language": "python",
   "name": "python3"
  },
  "language_info": {
   "codemirror_mode": {
    "name": "ipython",
    "version": 3
   },
   "file_extension": ".py",
   "mimetype": "text/x-python",
   "name": "python",
   "nbconvert_exporter": "python",
   "pygments_lexer": "ipython3",
   "version": "3.8.8"
  }
 },
 "nbformat": 4,
 "nbformat_minor": 5
}
